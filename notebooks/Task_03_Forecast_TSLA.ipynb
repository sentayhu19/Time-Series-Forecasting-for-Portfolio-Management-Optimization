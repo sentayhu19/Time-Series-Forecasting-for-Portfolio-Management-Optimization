{
 "cells": [
  {
   "cell_type": "markdown",
   "metadata": {},
   "source": [
    "# Task 3: Forecast Future Market Trends — TSLA\n",
    "Use models from Task 2 (ARIMA and LSTM) to forecast future TSLA prices for 6–12 months, visualize with confidence intervals, and analyze trends and risks."
   ]
  },
  {
   "cell_type": "code",
   "execution_count": null,
   "metadata": {},
   "outputs": [],
   "source": [
    "# Setup: ensure project root is on sys.path\n",
    "import os, sys\n",
    "from pathlib import Path\n",
    "ROOT = Path.cwd().resolve().parents[0] if (Path.cwd().name == 'notebooks') else Path.cwd().resolve()\n",
    "sys.path.append(str(ROOT))\n",
    "ROOT\n"
   ]
  },
  {
   "cell_type": "code",
   "execution_count": null,
   "metadata": {},
   "outputs": [],
   "source": [
    "# Imports\n",
    "import pandas as pd\n",
    "import numpy as np\n",
    "import matplotlib.pyplot as plt\n",
    "from datetime import timedelta\n",
    "\n",
    "from src.constants.config import (\n",
    "    TICKERS, START_DATE, END_DATE, INTERVAL, AUTO_ADJUST, TARGET_TICKER\n",
    ")\n",
    "from src.utils.data_loader import fetch_yfinance_data, merge_adjusted_close\n",
    "from src.utils.preprocessing import fill_missing_dates, handle_missing, extract_series\n",
    "from src.models.arima import fit_auto_arima, forecast_arima_with_ci\n",
    "from src.models.lstm import train_lstm, forecast_lstm, make_sequences\n",
    "from src.utils.evaluation import normal_prediction_interval\n"
   ]
  },
  {
   "cell_type": "markdown",
   "metadata": {},
   "source": [
    "## 1) Build prices (reusing Task 2 logic with fallback)"
   ]
  },
  {
   "cell_type": "code",
   "execution_count": null,
   "metadata": {},
   "outputs": [],
   "source": [
    "def build_prices():\n",
    "    raw = fetch_yfinance_data(TICKERS, START_DATE, END_DATE, interval=INTERVAL, auto_adjust=AUTO_ADJUST)\n",
    "    prices = merge_adjusted_close(raw, column='Adj Close')\n",
    "    if prices is None or prices.empty:\n",
    "        raw2 = fetch_yfinance_data(TICKERS, START_DATE, END_DATE, interval=INTERVAL, auto_adjust=False)\n",
    "        prices = merge_adjusted_close(raw2, column='Adj Close')\n",
    "    if prices is None or prices.empty:\n",
    "        raise RuntimeError('No price data merged. Check network or date range.')\n",
    "    prices = fill_missing_dates(prices)\n",
    "    prices = handle_missing(prices, method='interpolate')\n",
    "    prices = prices.dropna(axis=1, how='all')\n",
    "    return prices\n",
    "\n",
    "prices = build_prices()\n",
    "tsla = extract_series(prices, TARGET_TICKER)\n",
    "tsla.tail()\n"
   ]
  },
  {
   "cell_type": "markdown",
   "metadata": {},
   "source": [
    "## 2) Define forecast horizon and future index"
   ]
  },
  {
   "cell_type": "code",
   "execution_count": null,
   "metadata": {},
   "outputs": [],
   "source": [
    "# Choose horizon in months (6 or 12)\n",
    "HORIZON_MONTHS = 6\n",
    "# Approximate business days per month ~21\n",
    "STEPS = int(21 * HORIZON_MONTHS)\n",
    "last_date = tsla.index.max()\n",
    "future_index = pd.bdate_range(start=last_date + pd.offsets.BDay(1), periods=STEPS)\n",
    "last_date, STEPS, future_index[0], future_index[-1]\n"
   ]
  },
  {
   "cell_type": "markdown",
   "metadata": {},
   "source": [
    "## 3) ARIMA: fit on full series and forecast with confidence intervals"
   ]
  },
  {
   "cell_type": "code",
   "execution_count": null,
   "metadata": {},
   "outputs": [],
   "source": [
    "arima_model = fit_auto_arima(tsla, seasonal=False, m=1, stepwise=True, trace=False)\n",
    "arima_mean, arima_lower, arima_upper = forecast_arima_with_ci(arima_model, steps=STEPS, index=future_index)\n",
    "arima_mean.head()\n"
   ]
  },
  {
   "cell_type": "markdown",
   "metadata": {},
   "source": [
    "## 4) LSTM: train on full series and forecast; build approximate CIs"
   ]
  },
  {
   "cell_type": "code",
   "execution_count": null,
   "metadata": {},
   "outputs": [],
   "source": [
    "LOOKBACK, EPOCHS, BATCH, UNITS, DROPOUT = 60, 20, 32, 64, 0.0\n",
    "try:\n",
    "    lstm_model, scaler, last_window = train_lstm(tsla, lookback=LOOKBACK, epochs=EPOCHS, batch_size=BATCH, units=UNITS, dropout=DROPOUT)\n",
    "    lstm_forecast = forecast_lstm(lstm_model, scaler, last_window, steps=STEPS, index=future_index)\n",
    "    # Build approximate CI: use in-sample residual std\n",
    "    values = pd.to_numeric(tsla, errors='coerce').dropna().astype(float).values.reshape(-1, 1)\n",
    "    scaled = scaler.transform(values)\n",
    "    X_all, y_all = make_sequences(scaled.squeeze(), LOOKBACK)\n",
    "    yhat_scaled = lstm_model.predict(X_all, verbose=0).squeeze()\n",
    "    # inverse transform predictions and true\n",
    "    yhat = scaler.inverse_transform(yhat_scaled.reshape(-1,1)).squeeze()\n",
    "    y_true = values[LOOKBACK:].squeeze()\n",
    "    # Create aligned Series for residual std\n",
    "    idx_align = tsla.index[LOOKBACK:]\n",
    "    y_true_s = pd.Series(y_true, index=idx_align)\n",
    "    y_pred_s = pd.Series(yhat, index=idx_align)\n",
    "    lstm_lower_off, lstm_upper_off = normal_prediction_interval(y_true_s, y_pred_s, steps=STEPS, z=1.96, index=future_index)\n",
    "    lstm_lower = lstm_forecast + lstm_lower_off\n",
    "    lstm_upper = lstm_forecast + lstm_upper_off\n",
    "except Exception as e:\n",
    "    print('LSTM unavailable or failed:', e)\n",
    "    lstm_forecast = pd.Series(dtype=float)\n",
    "    lstm_lower = pd.Series(dtype=float)\n",
    "    lstm_upper = pd.Series(dtype=float)\n",
    "\n",
    "lstm_forecast.head() if not lstm_forecast.empty else 'LSTM skipped'\n"
   ]
  },
  {
   "cell_type": "markdown",
   "metadata": {},
   "source": [
    "## 5) Visualization: historical + forecasts with confidence intervals"
   ]
  },
  {
   "cell_type": "code",
   "execution_count": null,
   "metadata": {},
   "outputs": [],
   "source": [
    "hist_window = 252 * 2  # last ~2 years\n",
    "hist = tsla.iloc[-hist_window:] if len(tsla) > hist_window else tsla\n",
    "fig, ax = plt.subplots(figsize=(12,6))\n",
    "hist.plot(ax=ax, label='Historical')\n",
    "# ARIMA\n",
    "arima_mean.plot(ax=ax, label='ARIMA forecast', color='C1')\n",
    "ax.fill_between(arima_mean.index, arima_lower.values, arima_upper.values, color='C1', alpha=0.2, label='ARIMA CI')\n",
    "# LSTM (if available)\n",
    "if not lstm_forecast.empty:\n",
    "    lstm_forecast.plot(ax=ax, label='LSTM forecast', color='C2')\n",
    "    ax.fill_between(lstm_forecast.index, lstm_lower.values, lstm_upper.values, color='C2', alpha=0.2, label='LSTM approx CI')\n",
    "ax.set_title(f'TSLA Forecast — {int(HORIZON_MONTHS)} months ahead')\n",
    "ax.set_xlabel('Date'); ax.set_ylabel('Price')\n",
    "ax.legend()\n",
    "plt.tight_layout()\n",
    "fig_path = ROOT / 'reports' / 'figures' / f'tsla_task3_forecast_{HORIZON_MONTHS}m.png'\n",
    "(ROOT / 'reports' / 'figures').mkdir(parents=True, exist_ok=True)\n",
    "plt.savefig(fig_path, dpi=150)\n",
    "plt.show()\n",
    "fig_path\n"
   ]
  },
  {
   "cell_type": "markdown",
   "metadata": {},
   "source": [
    "## 6) Save outputs"
   ]
  },
  {
   "cell_type": "code",
   "execution_count": null,
   "metadata": {},
   "outputs": [],
   "source": [
    "out = pd.DataFrame({'ARIMA_mean': arima_mean, 'ARIMA_lower': arima_lower, 'ARIMA_upper': arima_upper})\n",
    "if not lstm_forecast.empty:\n",
    "    out['LSTM_mean'] = lstm_forecast\n",
    "    out['LSTM_lower'] = lstm_lower\n",
    "    out['LSTM_upper'] = lstm_upper\n",
    "(ROOT / 'data' / 'processed').mkdir(parents=True, exist_ok=True)\n",
    "csv_path = ROOT / 'data' / 'processed' / f'tsla_task3_forecasts_{HORIZON_MONTHS}m.csv'\n",
    "out.to_csv(csv_path)\n",
    "csv_path\n"
   ]
  },
  {
   "cell_type": "markdown",
   "metadata": {},
   "source": [
    "## 7) Interpretation Guide\n",
    "- __Trend__: Is the forecast line generally rising, falling, or flat over the horizon?\n",
    "- __Confidence intervals__: Do bands widen over time? Wider bands imply greater uncertainty in long-term forecasts.\n",
    "- __Volatility and risk__: Large or rapidly widening bands indicate higher volatility and lower certainty; plan risk management accordingly.\n",
    "- __Opportunities__: If trend is upward and CIs aren't excessively wide, consider bullish strategies.\n",
    "- __Risks__: Downward trend or very wide CIs point to caution; stress-test scenarios.\n"
   ]
  }
 ],
 "metadata": {
  "kernelspec": {
   "display_name": "Python 3",
   "language": "python",
   "name": "python3"
  },
  "language_info": {
   "name": "python",
   "version": "3.10"
  }
 },
 "nbformat": 4,
 "nbformat_minor": 5
}
