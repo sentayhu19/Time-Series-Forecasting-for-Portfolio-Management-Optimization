{
 "cells": [
  {
   "cell_type": "markdown",
   "metadata": {},
   "source": [
    "# Task 1: Preprocess and Explore the Data\n",
    "\n",
    "Project: Time Series Forecasting for Portfolio Management Optimization (GMF Investments)\n",
    "\n",
    "This notebook loads TSLA, BND, SPY from yfinance (2015-07-01 to 2025-07-31), cleans data, performs EDA, computes returns and volatility, runs ADF stationarity tests, and calculates risk metrics (VaR, Sharpe)."
   ]
  },
  {
   "cell_type": "code",
   "execution_count": null,
   "metadata": {},
   "outputs": [],
   "source": [
    "# Imports and configuration\n",
    "import os\n",
    "import pandas as pd\n",
    "import numpy as np\n",
    "from src.constants.config import TICKERS, START_DATE, END_DATE, INTERVAL, AUTO_ADJUST, RISK_FREE_RATE\n",
    "from src.utils.data_loader import fetch_yfinance_data, merge_adjusted_close\n",
    "from src.utils.preprocessing import fill_missing_dates, handle_missing, compute_returns\n",
    "from src.utils.eda import basic_stats, rolling_stats, detect_outliers_zscore, adf_test\n",
    "from src.utils.metrics import sharpe_ratio, value_at_risk_historic, value_at_risk_parametric\n",
    "from src.utils.plotting import plot_prices, plot_returns, plot_rolling\n",
    "pd.set_option('display.max_columns', 100)\n",
    "pd.set_option('display.width', 160)\n",
    "print('Config:', TICKERS, START_DATE, END_DATE)"
   ]
  },
  {
   "cell_type": "code",
   "execution_count": null,
   "metadata": {},
   "outputs": [],
   "source": [
    "# Fetch OHLCV data\n",
    "raw = fetch_yfinance_data(TICKERS, START_DATE, END_DATE, interval=INTERVAL, auto_adjust=AUTO_ADJUST)\n",
    "list(raw.keys()), [raw[k].shape for k in raw]"
   ]
  },
  {
   "cell_type": "code",
   "execution_count": null,
   "metadata": {},
   "outputs": [],
   "source": [
    "# Merge Adj Close into a single DataFrame\n",
    "prices = merge_adjusted_close(raw, column='Adj Close')\n",
    "prices = fill_missing_dates(prices)\n",
    "prices = handle_missing(prices, method='interpolate')\n",
    "prices.head(), prices.isna().sum()"
   ]
  },
  {
   "cell_type": "code",
   "execution_count": null,
   "metadata": {},
   "outputs": [],
   "source": [
    "# EDA: plot price series\n",
    "plot_prices(prices, title='Adjusted Close Prices (TSLA, BND, SPY)')\n",
    "stats = basic_stats(prices)\n",
    "stats"
   ]
  },
  {
   "cell_type": "code",
   "execution_count": null,
   "metadata": {},
   "outputs": [],
   "source": [
    "# Compute daily returns and visualize\n",
    "returns = compute_returns(prices, kind='pct')\n",
    "plot_returns(returns, title='Daily Percentage Returns')\n",
    "returns.describe(percentiles=[0.01,0.05,0.95,0.99])"
   ]
  },
  {
   "cell_type": "code",
   "execution_count": null,
   "metadata": {},
   "outputs": [],
   "source": [
    "# Rolling volatility (21-day)\n",
    "roll = rolling_stats(returns, window=21)\n",
    "plot_rolling(roll['mean'], roll['std'], column='TSLA', title='TSLA Rolling Mean/Std (21d)')\n",
    "roll['mean'].tail(), roll['std'].tail()"
   ]
  },
  {
   "cell_type": "code",
   "execution_count": null,
   "metadata": {},
   "outputs": [],
   "source": [
    "# Outlier detection for TSLA daily returns\n",
    "out_tsla = detect_outliers_zscore(returns['TSLA'], threshold=3.0)\n",
    "out_tsla[out_tsla['is_outlier']].head()"
   ]
  },
  {
   "cell_type": "code",
   "execution_count": null,
   "metadata": {},
   "outputs": [],
   "source": [
    "# Stationarity tests (ADF) on prices and returns\n",
    "adf_prices_tsla = adf_test(prices['TSLA'])\n",
    "adf_returns_tsla = adf_test(returns['TSLA'])\n",
    "adf_prices_tsla, adf_returns_tsla"
   ]
  },
  {
   "cell_type": "code",
   "execution_count": null,
   "metadata": {},
   "outputs": [],
   "source": [
    "# Risk metrics: VaR and Sharpe (daily to annualized)\n",
    "tsla_sharpe = sharpe_ratio(returns['TSLA'], risk_free_rate=RISK_FREE_RATE, freq='daily')\n",
    "tsla_var_hist_95 = value_at_risk_historic(returns['TSLA'].dropna(), alpha=0.95)\n",
    "tsla_var_param_95 = value_at_risk_parametric(returns['TSLA'].dropna(), alpha=0.95)\n",
    "{'TSLA_Sharpe': tsla_sharpe, 'TSLA_VaR_hist_95': tsla_var_hist_95, 'TSLA_VaR_param_95': tsla_var_param_95}"
   ]
  },
  {
   "cell_type": "markdown",
   "metadata": {},
   "source": [
    "## Notes and Insights\n",
    "- Summarize price trends and return distributions.\n",
    "- Comment on stationarity (ADF): prices likely non-stationary; returns typically stationary.\n",
    "- Discuss volatility clustering and implications for modeling.\n",
    "- Connect findings to portfolio implications (risk management, allocation hints)."
   ]
  }
 ],
 "metadata": {
  "kernelspec": {
   "display_name": "Python 3",
   "language": "python",
   "name": "python3"
  },
  "language_info": {
   "name": "python",
   "version": "3.x"
  }
 },
 "nbformat": 4,
 "nbformat_minor": 5
}
