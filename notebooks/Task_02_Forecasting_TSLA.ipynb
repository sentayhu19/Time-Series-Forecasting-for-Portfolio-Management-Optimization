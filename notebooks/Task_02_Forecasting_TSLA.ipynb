{
 "cells": [
  {
   "cell_type": "markdown",
   "metadata": {},
   "source": [
    "# Task 2: TSLA Forecasting — ARIMA vs LSTM\n",
    "Clean, modular notebook using utilities in `src/`.\n",
    "\n",
    "Steps:\n",
    "1. Load configuration and utilities\n",
    "2. Fetch and prepare prices (with fallback)\n",
    "3. Extract TSLA and split chronologically at `SPLIT_DATE`\n",
    "4. Train Auto-ARIMA and LSTM\n",
    "5. Forecast test period and evaluate (MAE, RMSE, MAPE)\n",
    "6. Plot and compare\n"
   ]
  },
  {
   "cell_type": "code",
   "execution_count": 1,
   "metadata": {},
   "outputs": [
    {
     "data": {
      "text/plain": [
       "WindowsPath('C:/Users/senta/OneDrive/Documents/Proj/10 Ac/Time-Series-Forecasting-for-Portfolio-Management-Optimization')"
      ]
     },
     "execution_count": 1,
     "metadata": {},
     "output_type": "execute_result"
    }
   ],
   "source": [
    "# Setup: ensure project root is on sys.path\n",
    "import os, sys\n",
    "from pathlib import Path\n",
    "ROOT = Path.cwd().resolve().parents[0] if (Path.cwd().name == 'notebooks') else Path.cwd().resolve()\n",
    "sys.path.append(str(ROOT))\n",
    "ROOT\n"
   ]
  },
  {
   "cell_type": "code",
   "execution_count": 2,
   "metadata": {},
   "outputs": [
    {
     "ename": "ModuleNotFoundError",
     "evalue": "No module named 'tensorflow'",
     "output_type": "error",
     "traceback": [
      "\u001b[1;31m---------------------------------------------------------------------------\u001b[0m",
      "\u001b[1;31mModuleNotFoundError\u001b[0m                       Traceback (most recent call last)",
      "Cell \u001b[1;32mIn[2], line 11\u001b[0m\n\u001b[0;32m      9\u001b[0m \u001b[38;5;28;01mfrom\u001b[39;00m\u001b[38;5;250m \u001b[39m\u001b[38;5;21;01msrc\u001b[39;00m\u001b[38;5;21;01m.\u001b[39;00m\u001b[38;5;21;01mutils\u001b[39;00m\u001b[38;5;21;01m.\u001b[39;00m\u001b[38;5;21;01mpreprocessing\u001b[39;00m\u001b[38;5;250m \u001b[39m\u001b[38;5;28;01mimport\u001b[39;00m fill_missing_dates, handle_missing, extract_series, time_split_by_date\n\u001b[0;32m     10\u001b[0m \u001b[38;5;28;01mfrom\u001b[39;00m\u001b[38;5;250m \u001b[39m\u001b[38;5;21;01msrc\u001b[39;00m\u001b[38;5;21;01m.\u001b[39;00m\u001b[38;5;21;01mmodels\u001b[39;00m\u001b[38;5;21;01m.\u001b[39;00m\u001b[38;5;21;01marima\u001b[39;00m\u001b[38;5;250m \u001b[39m\u001b[38;5;28;01mimport\u001b[39;00m fit_auto_arima, forecast_arima\n\u001b[1;32m---> 11\u001b[0m \u001b[38;5;28;01mfrom\u001b[39;00m\u001b[38;5;250m \u001b[39m\u001b[38;5;21;01msrc\u001b[39;00m\u001b[38;5;21;01m.\u001b[39;00m\u001b[38;5;21;01mmodels\u001b[39;00m\u001b[38;5;21;01m.\u001b[39;00m\u001b[38;5;21;01mlstm\u001b[39;00m\u001b[38;5;250m \u001b[39m\u001b[38;5;28;01mimport\u001b[39;00m train_lstm, forecast_lstm\n\u001b[0;32m     12\u001b[0m \u001b[38;5;28;01mfrom\u001b[39;00m\u001b[38;5;250m \u001b[39m\u001b[38;5;21;01msrc\u001b[39;00m\u001b[38;5;21;01m.\u001b[39;00m\u001b[38;5;21;01mutils\u001b[39;00m\u001b[38;5;21;01m.\u001b[39;00m\u001b[38;5;21;01mevaluation\u001b[39;00m\u001b[38;5;250m \u001b[39m\u001b[38;5;28;01mimport\u001b[39;00m evaluate_all\n",
      "File \u001b[1;32m~\\OneDrive\\Documents\\Proj\\10 Ac\\Time-Series-Forecasting-for-Portfolio-Management-Optimization\\src\\models\\lstm.py:7\u001b[0m\n\u001b[0;32m      5\u001b[0m \u001b[38;5;28;01mimport\u001b[39;00m\u001b[38;5;250m \u001b[39m\u001b[38;5;21;01mpandas\u001b[39;00m\u001b[38;5;250m \u001b[39m\u001b[38;5;28;01mas\u001b[39;00m\u001b[38;5;250m \u001b[39m\u001b[38;5;21;01mpd\u001b[39;00m\n\u001b[0;32m      6\u001b[0m \u001b[38;5;28;01mfrom\u001b[39;00m\u001b[38;5;250m \u001b[39m\u001b[38;5;21;01msklearn\u001b[39;00m\u001b[38;5;21;01m.\u001b[39;00m\u001b[38;5;21;01mpreprocessing\u001b[39;00m\u001b[38;5;250m \u001b[39m\u001b[38;5;28;01mimport\u001b[39;00m MinMaxScaler\n\u001b[1;32m----> 7\u001b[0m \u001b[38;5;28;01mfrom\u001b[39;00m\u001b[38;5;250m \u001b[39m\u001b[38;5;21;01mtensorflow\u001b[39;00m\u001b[38;5;250m \u001b[39m\u001b[38;5;28;01mimport\u001b[39;00m keras\n\u001b[0;32m      8\u001b[0m \u001b[38;5;28;01mfrom\u001b[39;00m\u001b[38;5;250m \u001b[39m\u001b[38;5;21;01mtensorflow\u001b[39;00m\u001b[38;5;21;01m.\u001b[39;00m\u001b[38;5;21;01mkeras\u001b[39;00m\u001b[38;5;250m \u001b[39m\u001b[38;5;28;01mimport\u001b[39;00m layers\n\u001b[0;32m     11\u001b[0m \u001b[38;5;28;01mdef\u001b[39;00m\u001b[38;5;250m \u001b[39m\u001b[38;5;21mmake_sequences\u001b[39m(values: np\u001b[38;5;241m.\u001b[39mndarray, lookback: \u001b[38;5;28mint\u001b[39m) \u001b[38;5;241m-\u001b[39m\u001b[38;5;241m>\u001b[39m Tuple[np\u001b[38;5;241m.\u001b[39mndarray, np\u001b[38;5;241m.\u001b[39mndarray]:\n",
      "\u001b[1;31mModuleNotFoundError\u001b[0m: No module named 'tensorflow'"
     ]
    }
   ],
   "source": [
    "# Imports\n",
    "import pandas as pd\n",
    "import matplotlib.pyplot as plt\n",
    "\n",
    "from src.constants.config import (\n",
    "    TICKERS, START_DATE, END_DATE, INTERVAL, AUTO_ADJUST, TARGET_TICKER, SPLIT_DATE\n",
    ")\n",
    "from src.utils.data_loader import fetch_yfinance_data, merge_adjusted_close\n",
    "from src.utils.preprocessing import fill_missing_dates, handle_missing, extract_series, time_split_by_date\n",
    "from src.models.arima import fit_auto_arima, forecast_arima\n",
    "from src.models.lstm import train_lstm, forecast_lstm\n",
    "from src.utils.evaluation import evaluate_all\n"
   ]
  },
  {
   "cell_type": "markdown",
   "metadata": {},
   "source": [
    "## 1) Fetch and build prices (with fallback)"
   ]
  },
  {
   "cell_type": "code",
   "execution_count": null,
   "metadata": {},
   "outputs": [],
   "source": [
    "def build_prices():\n",
    "    raw = fetch_yfinance_data(TICKERS, START_DATE, END_DATE, interval=INTERVAL, auto_adjust=AUTO_ADJUST)\n",
    "    prices = merge_adjusted_close(raw, column='Adj Close')\n",
    "    if prices is None or prices.empty:\n",
    "        # Retry with auto_adjust=False to guarantee 'Adj Close' exists\n",
    "        raw2 = fetch_yfinance_data(TICKERS, START_DATE, END_DATE, interval=INTERVAL, auto_adjust=False)\n",
    "        prices = merge_adjusted_close(raw2, column='Adj Close')\n",
    "    if prices is None or prices.empty:\n",
    "        raise RuntimeError('No price data merged. Check network or date range.')\n",
    "    prices = fill_missing_dates(prices)\n",
    "    prices = handle_missing(prices, method='interpolate')\n",
    "    prices = prices.dropna(axis=1, how='all')\n",
    "    return prices\n",
    "\n",
    "prices = build_prices()\n",
    "prices.info()\n",
    "prices.tail()\n"
   ]
  },
  {
   "cell_type": "markdown",
   "metadata": {},
   "source": [
    "## 2) Extract TSLA and chronological split"
   ]
  },
  {
   "cell_type": "code",
   "execution_count": null,
   "metadata": {},
   "outputs": [],
   "source": [
    "tsla = extract_series(prices, TARGET_TICKER)\n",
    "train, test = time_split_by_date(tsla, SPLIT_DATE)\n",
    "len(train), len(test), train.index.min(), train.index.max(), test.index.min(), test.index.max()\n"
   ]
  },
  {
   "cell_type": "markdown",
   "metadata": {},
   "source": [
    "## 3) Auto-ARIMA fit and forecast"
   ]
  },
  {
   "cell_type": "code",
   "execution_count": null,
   "metadata": {},
   "outputs": [],
   "source": [
    "arima_model = fit_auto_arima(train, seasonal=False, m=1, stepwise=True, trace=False)\n",
    "pred_arima = forecast_arima(arima_model, steps=len(test), index=test.index)\n",
    "metrics_arima = evaluate_all(test, pred_arima)\n",
    "metrics_arima\n"
   ]
  },
  {
   "cell_type": "markdown",
   "metadata": {},
   "source": [
    "## 4) LSTM fit and forecast"
   ]
  },
  {
   "cell_type": "code",
   "execution_count": null,
   "metadata": {},
   "outputs": [],
   "source": [
    "LOOKBACK, EPOCHS, BATCH, UNITS, DROPOUT = 60, 20, 32, 64, 0.0\n",
    "lstm_model, scaler, last_window = train_lstm(\n",
    "    train, lookback=LOOKBACK, epochs=EPOCHS, batch_size=BATCH, units=UNITS, dropout=DROPOUT\n",
    ")\n",
    "pred_lstm = forecast_lstm(lstm_model, scaler, last_window, steps=len(test), index=test.index)\n",
    "metrics_lstm = evaluate_all(test, pred_lstm)\n",
    "metrics_lstm\n"
   ]
  },
  {
   "cell_type": "markdown",
   "metadata": {},
   "source": [
    "## 5) Compare and plot"
   ]
  },
  {
   "cell_type": "code",
   "execution_count": null,
   "metadata": {},
   "outputs": [],
   "source": [
    "print('ARIMA:', metrics_arima)\n",
    "print('LSTM :', metrics_lstm)\n",
    "\n",
    "compare = pd.DataFrame({'Actual': test, 'ARIMA': pred_arima, 'LSTM': pred_lstm})\n",
    "ax = compare.plot(figsize=(12, 6))\n",
    "ax.set_title('TSLA — Actual vs Forecasts (Test)')\n",
    "ax.set_xlabel('Date'); ax.set_ylabel('Price')\n",
    "plt.tight_layout()\n",
    "plt.show()\n",
    "compare.tail()\n"
   ]
  }
 ],
 "metadata": {
  "kernelspec": {
   "display_name": "Python 3",
   "language": "python",
   "name": "python3"
  },
  "language_info": {
   "codemirror_mode": {
    "name": "ipython",
    "version": 3
   },
   "file_extension": ".py",
   "mimetype": "text/x-python",
   "name": "python",
   "nbconvert_exporter": "python",
   "pygments_lexer": "ipython3",
   "version": "3.10.0"
  }
 },
 "nbformat": 4,
 "nbformat_minor": 5
}
