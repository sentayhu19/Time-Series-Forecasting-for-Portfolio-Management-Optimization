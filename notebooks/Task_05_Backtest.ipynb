{
 "cells": [
  {"cell_type":"markdown","metadata":{},"source":[
   "# Task 5: Strategy Backtesting — TSLA/BND/SPY\n",
   "Simulate the strategy using Task 4 optimal weights and compare against a 60/40 SPY/BND benchmark over the last year."
  ]},
  {"cell_type":"code","execution_count":null,"metadata":{},"outputs":[],"source":[
   "# Ensure project root on path\n",
   "import os, sys\n",
   "from pathlib import Path\n",
   "ROOT = Path.cwd().resolve().parents[0] if (Path.cwd().name == 'notebooks') else Path.cwd().resolve()\n",
   "if str(ROOT) not in sys.path: sys.path.append(str(ROOT))\n",
   "ROOT\n"
  ]},
  {"cell_type":"code","execution_count":null,"metadata":{},"outputs":[],"source":[
   "# Imports\n",
   "import numpy as np\n",
   "import pandas as pd\n",
   "import matplotlib.pyplot as plt\n",
   "import glob\n",
   "\n",
   "from src.constants.config import TICKERS, START_DATE, END_DATE, INTERVAL, AUTO_ADJUST\n",
   "from src.utils.data_loader import fetch_yfinance_data, merge_adjusted_close\n",
   "from src.utils.preprocessing import fill_missing_dates, handle_missing\n"
  ]},
  {"cell_type":"markdown","metadata":{},"source":[
   "## 1) Build prices and define backtest window (last ~252 business days)"
  ]},
  {"cell_type":"code","execution_count":null,"metadata":{},"outputs":[],"source":[
   "def build_prices():\n",
   "    raw = fetch_yfinance_data(TICKERS, START_DATE, END_DATE, interval=INTERVAL, auto_adjust=AUTO_ADJUST)\n",
   "    prices = merge_adjusted_close(raw, column='Adj Close')\n",
   "    if prices is None or prices.empty:\n",
   "        raw2 = fetch_yfinance_data(TICKERS, START_DATE, END_DATE, interval=INTERVAL, auto_adjust=False)\n",
   "        prices = merge_adjusted_close(raw2, column='Adj Close')\n",
   "    if prices is None or prices.empty:\n",
   "        raise RuntimeError('No price data merged. Check network or date range.')\n",
   "    prices = fill_missing_dates(prices)\n",
   "    prices = handle_missing(prices, method='interpolate')\n",
   "    prices = prices.dropna(axis=1, how='all')\n",
   "    return prices\n",
   "\n",
   "prices = build_prices()\n",
   "retn = prices.pct_change().dropna()\n",
   "# Backtest window: last ~252 business days\n",
   "BT_DAYS = 252\n",
   "retn_bt = retn.iloc[-BT_DAYS:] if len(retn) > BT_DAYS else retn.copy()\n",
   "bt_start, bt_end = retn_bt.index.min(), retn_bt.index.max()\n",
   "bt_start, bt_end, retn_bt.tail()\n"
  ]},
  {"cell_type":"markdown","metadata":{},"source":[
   "## 2) Load strategy weights from Task 4 (default: Max Sharpe)"
  ]},
  {"cell_type":"code","execution_count":null,"metadata":{},"outputs":[],"source":[
   "def load_strategy_weights(prefer='Max Sharpe') -> pd.Series:\n",
   "    path = ROOT / 'data' / 'processed' / 'task4_portfolio_weights.csv'\n",
   "    if not path.exists():\n",
   "        # Fallback: equal weights across available assets\n",
   "        cols = [c for c in ['TSLA','BND','SPY'] if c in retn_bt.columns]\n",
   "        return pd.Series({c: 1.0/len(cols) for c in cols})\n",
   "    df = pd.read_csv(path, index_col=0)\n",
   "    if prefer in df.index:\n",
   "        s = df.loc[prefer].astype(float)\n",
   "    else:\n",
   "        s = df.iloc[0].astype(float)\n",
   "    # Keep only assets we have returns for\n",
   "    s = s[[c for c in s.index if c in retn_bt.columns]]\n",
   "    # Normalize in case of rounding\n",
   "    s = s / s.sum()\n",
   "    return s\n",
   "\n",
   "w_strategy = load_strategy_weights('Max Sharpe')\n",
   "w_strategy\n"
  ]},
  {"cell_type":"markdown","metadata":{},"source":[
   "## 3) Define benchmark weights (60% SPY, 40% BND)"
  ]},
  {"cell_type":"code","execution_count":null,"metadata":{},"outputs":[],"source":[
   "w_bench = pd.Series({'SPY': 0.60, 'BND': 0.40})\n",
   "# Align to available columns and renormalize if needed\n",
   "w_bench = w_bench[[c for c in w_bench.index if c in retn_bt.columns]]\n",
   "w_bench = w_bench / w_bench.sum()\n",
   "w_bench\n"
  ]},
  {"cell_type":"markdown","metadata":{},"source":[
   "## 4) Simulate strategy and benchmark cumulative returns"
  ]},
  {"cell_type":"code","execution_count":null,"metadata":{},"outputs":[],"source":[
   "# Hold weights over the backtest window (no rebalancing inside this period)\n",
   "strat_rets = (retn_bt[w_strategy.index] * w_strategy).sum(axis=1)\n",
   "bench_rets = (retn_bt[w_bench.index] * w_bench).sum(axis=1)\n",
   "\n",
   "strat_cum = (1 + strat_rets).cumprod()\n",
   "bench_cum = (1 + bench_rets).cumprod()\n",
   "strat_cum.tail(), bench_cum.tail()\n"
  ]},
  {"cell_type":"markdown","metadata":{},"source":[
   "## 5) Plot cumulative returns"
  ]},
  {"cell_type":"code","execution_count":null,"metadata":{},"outputs":[],"source":[
   "fig, ax = plt.subplots(figsize=(10,6))\n",
   "strat_cum.plot(ax=ax, label='Strategy')\n",
   "bench_cum.plot(ax=ax, label='Benchmark 60/40')\n",
   "ax.set_title(f'Cumulative Returns (Backtest)\\n{bt_start.date()} to {bt_end.date()}')\n",
   "ax.set_xlabel('Date'); ax.set_ylabel('Growth of $1')\n",
   "ax.legend()\n",
   "plt.tight_layout()\n",
   "(ROOT / 'reports' / 'figures').mkdir(parents=True, exist_ok=True)\n",
   "fig_path = ROOT / 'reports' / 'figures' / 'task5_backtest_cum.png'\n",
   "plt.savefig(fig_path, dpi=150)\n",
   "plt.show()\n",
   "fig_path\n"
  ]},
  {"cell_type":"markdown","metadata":{},"source":[
   "## 6) Performance metrics (annualized Sharpe and total return)"
  ]},
  {"cell_type":"code","execution_count":null,"metadata":{},"outputs":[],"source":[
   "RISK_FREE_ANNUAL = 0.02\n",
   "rf_daily = RISK_FREE_ANNUAL / 252.0\n",
   "\n",
   "def perf_metrics(r: pd.Series) -> dict:\n",
   "    r = r.dropna().astype(float)\n",
   "    mu = r.mean() * 252.0\n",
   "    vol = r.std(ddof=1) * np.sqrt(252.0)\n",
   "    sharpe = (mu - RISK_FREE_ANNUAL) / vol if vol > 0 else np.nan\n",
   "    total_ret = (1 + r).prod() - 1\n",
   "    return {'ann_return': mu, 'ann_vol': vol, 'sharpe': sharpe, 'total_return': total_ret}\n",
   "\n",
   "m_strat = perf_metrics(strat_rets)\n",
   "m_bench = perf_metrics(bench_rets)\n",
   "summary = pd.DataFrame([m_strat, m_bench], index=['Strategy','Benchmark60/40'])\n",
   "(ROOT / 'data' / 'processed').mkdir(parents=True, exist_ok=True)\n",
   "summary.to_csv(ROOT / 'data' / 'processed' / 'task5_backtest_metrics.csv')\n",
   "summary\n"
  ]},
  {"cell_type":"markdown","metadata":{},"source":[
   "## 7) Conclusion\n",
   "Briefly compare final Sharpe and total return. Did the strategy outperform the benchmark? Discuss implications for the model-driven approach and note that this is an initial, simplified backtest (no transaction costs, simplified rebalancing)."
  ]}
 ],
 "metadata": {"kernelspec": {"display_name": "Python 3", "language": "python", "name": "python3"}, "language_info": {"name": "python", "version": "3.10"}},
 "nbformat": 4,
 "nbformat_minor": 5
}
