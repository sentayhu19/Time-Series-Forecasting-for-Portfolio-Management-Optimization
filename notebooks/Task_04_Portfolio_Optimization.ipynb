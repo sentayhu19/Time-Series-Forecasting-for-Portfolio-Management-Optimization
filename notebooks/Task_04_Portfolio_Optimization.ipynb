{
 "cells": [
  {
   "cell_type": "markdown",
   "metadata": {},
   "source": [
    "# Task 4: Portfolio Optimization with MPT (TSLA, BND, SPY)\n",
    "This notebook builds an Efficient Frontier using:\n",
    "- TSLA expected return from Task 3 forecast (fallback to historical if not available)\n",
    "- BND & SPY expected returns from historical average (annualized)\n",
    "- Covariance matrix from historical daily returns (annualized)\n",
    "Then it finds the Maximum Sharpe and Minimum Volatility portfolios, plots the frontier, and saves outputs."
   ]
  },
  {
   "cell_type": "code",
   "execution_count": null,
   "metadata": {},
   "outputs": [],
   "source": [
    "# Ensure project root on path\n",
    "import os, sys, glob\n",
    "from pathlib import Path\n",
    "ROOT = Path.cwd().resolve().parents[0] if (Path.cwd().name == 'notebooks') else Path.cwd().resolve()\n",
    "if str(ROOT) not in sys.path:\n",
    "    sys.path.append(str(ROOT))\n",
    "ROOT\n"
   ]
  },
  {
   "cell_type": "code",
   "execution_count": null,
   "metadata": {},
   "outputs": [],
   "source": [
    "# Imports\n",
    "import numpy as np\n",
    "import pandas as pd\n",
    "import matplotlib.pyplot as plt\n",
    "\n",
    "from src.constants.config import TICKERS, START_DATE, END_DATE, INTERVAL, AUTO_ADJUST\n",
    "from src.utils.data_loader import fetch_yfinance_data, merge_adjusted_close\n",
    "from src.utils.preprocessing import fill_missing_dates, handle_missing\n",
    "\n",
    "from pypfopt import EfficientFrontier\n"
   ]
  },
  {
   "cell_type": "markdown",
   "metadata": {},
   "source": [
    "## 1) Build clean prices and daily returns"
   ]
  },
  {
   "cell_type": "code",
   "execution_count": null,
   "metadata": {},
   "outputs": [],
   "source": [
    "def build_prices():\n",
    "    raw = fetch_yfinance_data(TICKERS, START_DATE, END_DATE, interval=INTERVAL, auto_adjust=AUTO_ADJUST)\n",
    "    prices = merge_adjusted_close(raw, column='Adj Close')\n",
    "    if prices is None or prices.empty:\n",
    "        raw2 = fetch_yfinance_data(TICKERS, START_DATE, END_DATE, interval=INTERVAL, auto_adjust=False)\n",
    "        prices = merge_adjusted_close(raw2, column='Adj Close')\n",
    "    if prices is None or prices.empty:\n",
    "        raise RuntimeError('No price data merged. Check network or date range.')\n",
    "    prices = fill_missing_dates(prices)\n",
    "    prices = handle_missing(prices, method='interpolate')\n",
    "    prices = prices.dropna(axis=1, how='all')\n",
    "    return prices\n",
    "\n",
    "prices = build_prices()\n",
    "retn = prices.pct_change().dropna()\n",
    "prices.tail(), retn.tail()\n"
   ]
  },
  {
   "cell_type": "markdown",
   "metadata": {},
   "source": [
    "## 2) Expected returns (annualized)\n",
    "- TSLA from forecast CSV if available (Task 3)\n",
    "- BND, SPY from historical average"
   ]
  },
  {
   "cell_type": "code",
   "execution_count": null,
   "metadata": {},
   "outputs": [],
   "source": [
    "def load_tsla_expected_return_from_forecast() -> float | None:\n",
    "    path_glob = str(ROOT / 'data' / 'processed' / 'tsla_task3_forecasts_*m.csv')\n",
    "    files = sorted(glob.glob(path_glob))\n",
    "    if not files:\n",
    "        return None\n",
    "    latest = files[-1]\n",
    "    df = pd.read_csv(latest, parse_dates=[0], index_col=0)\n",
    "    col = 'LSTM_mean' if 'LSTM_mean' in df.columns else 'ARIMA_mean' if 'ARIMA_mean' in df.columns else None\n",
    "    if col is None:\n",
    "        return None\n",
    "    s = pd.to_numeric(df[col], errors='coerce').dropna().astype(float)\n",
    "    if len(s) < 2:\n",
    "        return None\n",
    "    daily_returns = s.pct_change().dropna()\n",
    "    if daily_returns.empty:\n",
    "        return None\n",
    "    return float(daily_returns.mean() * 252.0)\n",
    "\n",
    "hist_means_annual = retn.mean() * 252.0\n",
    "mu = hist_means_annual.copy()\n",
    "tsla_mu_forecast = load_tsla_expected_return_from_forecast()\n",
    "if tsla_mu_forecast is not None and 'TSLA' in mu.index:\n",
    "    mu.loc['TSLA'] = tsla_mu_forecast\n",
    "mu\n"
   ]
  },
  {
   "cell_type": "markdown",
   "metadata": {},
   "source": [
    "## 3) Covariance matrix (annualized)\n",
    "Use a recent lookback window if desired."
   ]
  },
  {
   "cell_type": "code",
   "execution_count": null,
   "metadata": {},
   "outputs": [],
   "source": [
    "WINDOW_YEARS = 3\n",
    "if len(retn) > int(252 * WINDOW_YEARS):\n",
    "    retn_cov = retn.iloc[-int(252 * WINDOW_YEARS):]\n",
    "else:\n",
    "    retn_cov = retn\n",
    "S = retn_cov.cov() * 252.0\n",
    "mu, S\n"
   ]
  },
  {
   "cell_type": "markdown",
   "metadata": {},
   "source": [
    "## 4) Efficient Frontier, Max Sharpe, Min Volatility"
   ]
  },
  {
   "cell_type": "code",
   "execution_count": null,
   "metadata": {},
   "outputs": [],
   "source": [
    "RISK_FREE_RATE = 0.02  # annual\n",
    "assets = [a for a in ['TSLA','BND','SPY'] if a in mu.index]\n",
    "mu_vec = mu.loc[assets]\n",
    "S_mat = S.loc[assets, assets]\n",
    "\n",
    "ef = EfficientFrontier(mu_vec, S_mat)\n",
    "w_sharpe = ef.max_sharpe(risk_free_rate=RISK_FREE_RATE)\n",
    "ret_s, vol_s, sr_s = ef.portfolio_performance(verbose=False, risk_free_rate=RISK_FREE_RATE)\n",
    "weights_sharpe = ef.clean_weights()\n",
    "\n",
    "ef2 = EfficientFrontier(mu_vec, S_mat)\n",
    "w_minv = ef2.min_volatility()\n",
    "ret_m, vol_m, sr_m = ef2.portfolio_performance(verbose=False, risk_free_rate=RISK_FREE_RATE)\n",
    "weights_minv = ef2.clean_weights()\n",
    "\n",
    "weights_sharpe, (ret_s, vol_s, sr_s), weights_minv, (ret_m, vol_m, sr_m)\n"
   ]
  },
  {
   "cell_type": "markdown",
   "metadata": {},
   "source": [
    "## 5) Plot Efficient Frontier and mark key portfolios"
   ]
  },
  {
   "cell_type": "code",
   "execution_count": null,
   "metadata": {},
   "outputs": [],
   "source": [
    "# Sample efficient frontier by scanning target returns\n",
    "ret_min = float(min(mu_vec))\n",
    "ret_max = float(max(mu_vec))\n",
    "targets = np.linspace(ret_min, ret_max, 50)\n",
    "risks, returns = [], []\n",
    "for t in targets:\n",
    "    try:\n",
    "        ef_t = EfficientFrontier(mu_vec, S_mat)\n",
    "        ef_t.efficient_return(target_return=t)\n",
    "        r, v, _ = ef_t.portfolio_performance(verbose=False)\n",
    "        returns.append(r); risks.append(v)\n",
    "    except Exception:\n",
    "        continue\n",
    "\n",
    "fig, ax = plt.subplots(figsize=(10,6))\n",
    "ax.plot(risks, returns, label='Efficient Frontier')\n",
    "ax.scatter([vol_s], [ret_s], marker='*', s=200, color='C1', label='Max Sharpe')\n",
    "ax.scatter([vol_m], [ret_m], marker='o', s=120, color='C2', label='Min Volatility')\n",
    "ax.set_xlabel('Annualized Volatility')\n",
    "ax.set_ylabel('Annualized Return')\n",
    "ax.set_title('Efficient Frontier — TSLA/BND/SPY')\n",
    "ax.legend()\n",
    "plt.tight_layout()\n",
    "(ROOT / 'reports' / 'figures').mkdir(parents=True, exist_ok=True)\n",
    "fig_path = ROOT / 'reports' / 'figures' / 'task4_efficient_frontier.png'\n",
    "plt.savefig(fig_path, dpi=150)\n",
    "plt.show()\n",
    "fig_path\n"
   ]
  },
  {
   "cell_type": "markdown",
   "metadata": {},
   "source": [
    "## 6) Summaries and recommendation"
   ]
  },
  {
   "cell_type": "code",
   "execution_count": null,
   "metadata": {},
   "outputs": [],
   "source": [
    "summary = pd.DataFrame({\n",
    "    'Portfolio': ['Max Sharpe', 'Min Volatility'],\n",
    "    'Return': [ret_s, ret_m],\n",
    "    'Volatility': [vol_s, vol_m],\n",
    "    'Sharpe': [sr_s, sr_m]\n",
    "})\n",
    "weights_df = pd.DataFrame([weights_sharpe, weights_minv], index=['Max Sharpe', 'Min Volatility'])\n",
    "(ROOT / 'data' / 'processed').mkdir(parents=True, exist_ok=True)\n",
    "summary.to_csv(ROOT / 'data' / 'processed' / 'task4_portfolio_summary.csv', index=False)\n",
    "weights_df.to_csv(ROOT / 'data' / 'processed' / 'task4_portfolio_weights.csv')\n",
    "summary, weights_df\n"
   ]
  },
  {
   "cell_type": "markdown",
   "metadata": {},
   "source": [
    "### Recommendation\n",
    "Adjust based on your risk preference. By default, we recommend the Max Sharpe portfolio for highest risk-adjusted return."
   ]
  }
 ],
 "metadata": {
  "kernelspec": {
   "display_name": "Python 3",
   "language": "python",
   "name": "python3"
  },
  "language_info": {
   "name": "python",
   "version": "3.10"
  }
 },
 "nbformat": 4,
 "nbformat_minor": 5
}
